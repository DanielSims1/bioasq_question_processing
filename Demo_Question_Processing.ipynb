{
  "nbformat": 4,
  "nbformat_minor": 0,
  "metadata": {
    "colab": {
      "name": "Demo_Question Processing.ipynb",
      "provenance": [],
      "collapsed_sections": []
    },
    "kernelspec": {
      "name": "python3",
      "display_name": "Python 3"
    },
    "accelerator": "GPU",
    "widgets": {
      "application/vnd.jupyter.widget-state+json": {
        "89e6c2d51e5a4c0985b857fc932dab30": {
          "model_module": "@jupyter-widgets/controls",
          "model_name": "HBoxModel",
          "state": {
            "_view_name": "HBoxView",
            "_dom_classes": [],
            "_model_name": "HBoxModel",
            "_view_module": "@jupyter-widgets/controls",
            "_model_module_version": "1.5.0",
            "_view_count": null,
            "_view_module_version": "1.5.0",
            "box_style": "",
            "layout": "IPY_MODEL_c265d1a11b7749e68937be65c30fe1a2",
            "_model_module": "@jupyter-widgets/controls",
            "children": [
              "IPY_MODEL_beadec186b47496f9981c2eb78c6370a",
              "IPY_MODEL_16513a7af14c434296abf11b12a9aef6"
            ]
          }
        },
        "c265d1a11b7749e68937be65c30fe1a2": {
          "model_module": "@jupyter-widgets/base",
          "model_name": "LayoutModel",
          "state": {
            "_view_name": "LayoutView",
            "grid_template_rows": null,
            "right": null,
            "justify_content": null,
            "_view_module": "@jupyter-widgets/base",
            "overflow": null,
            "_model_module_version": "1.2.0",
            "_view_count": null,
            "flex_flow": null,
            "width": null,
            "min_width": null,
            "border": null,
            "align_items": null,
            "bottom": null,
            "_model_module": "@jupyter-widgets/base",
            "top": null,
            "grid_column": null,
            "overflow_y": null,
            "overflow_x": null,
            "grid_auto_flow": null,
            "grid_area": null,
            "grid_template_columns": null,
            "flex": null,
            "_model_name": "LayoutModel",
            "justify_items": null,
            "grid_row": null,
            "max_height": null,
            "align_content": null,
            "visibility": null,
            "align_self": null,
            "height": null,
            "min_height": null,
            "padding": null,
            "grid_auto_rows": null,
            "grid_gap": null,
            "max_width": null,
            "order": null,
            "_view_module_version": "1.2.0",
            "grid_template_areas": null,
            "object_position": null,
            "object_fit": null,
            "grid_auto_columns": null,
            "margin": null,
            "display": null,
            "left": null
          }
        },
        "beadec186b47496f9981c2eb78c6370a": {
          "model_module": "@jupyter-widgets/controls",
          "model_name": "FloatProgressModel",
          "state": {
            "_view_name": "ProgressView",
            "style": "IPY_MODEL_8ff0cf821b16424da1bf427669d6aa28",
            "_dom_classes": [],
            "description": "Downloading: 100%",
            "_model_name": "FloatProgressModel",
            "bar_style": "success",
            "max": 231508,
            "_view_module": "@jupyter-widgets/controls",
            "_model_module_version": "1.5.0",
            "value": 231508,
            "_view_count": null,
            "_view_module_version": "1.5.0",
            "orientation": "horizontal",
            "min": 0,
            "description_tooltip": null,
            "_model_module": "@jupyter-widgets/controls",
            "layout": "IPY_MODEL_d144c41f50274411ba222b5eb5791c73"
          }
        },
        "16513a7af14c434296abf11b12a9aef6": {
          "model_module": "@jupyter-widgets/controls",
          "model_name": "HTMLModel",
          "state": {
            "_view_name": "HTMLView",
            "style": "IPY_MODEL_ea375f637f8d4dd59e1f11d675627cf4",
            "_dom_classes": [],
            "description": "",
            "_model_name": "HTMLModel",
            "placeholder": "​",
            "_view_module": "@jupyter-widgets/controls",
            "_model_module_version": "1.5.0",
            "value": " 232k/232k [00:00&lt;00:00, 734kB/s]",
            "_view_count": null,
            "_view_module_version": "1.5.0",
            "description_tooltip": null,
            "_model_module": "@jupyter-widgets/controls",
            "layout": "IPY_MODEL_5316d2ea586f4a6cbfceed5259bfb238"
          }
        },
        "8ff0cf821b16424da1bf427669d6aa28": {
          "model_module": "@jupyter-widgets/controls",
          "model_name": "ProgressStyleModel",
          "state": {
            "_view_name": "StyleView",
            "_model_name": "ProgressStyleModel",
            "description_width": "initial",
            "_view_module": "@jupyter-widgets/base",
            "_model_module_version": "1.5.0",
            "_view_count": null,
            "_view_module_version": "1.2.0",
            "bar_color": null,
            "_model_module": "@jupyter-widgets/controls"
          }
        },
        "d144c41f50274411ba222b5eb5791c73": {
          "model_module": "@jupyter-widgets/base",
          "model_name": "LayoutModel",
          "state": {
            "_view_name": "LayoutView",
            "grid_template_rows": null,
            "right": null,
            "justify_content": null,
            "_view_module": "@jupyter-widgets/base",
            "overflow": null,
            "_model_module_version": "1.2.0",
            "_view_count": null,
            "flex_flow": null,
            "width": null,
            "min_width": null,
            "border": null,
            "align_items": null,
            "bottom": null,
            "_model_module": "@jupyter-widgets/base",
            "top": null,
            "grid_column": null,
            "overflow_y": null,
            "overflow_x": null,
            "grid_auto_flow": null,
            "grid_area": null,
            "grid_template_columns": null,
            "flex": null,
            "_model_name": "LayoutModel",
            "justify_items": null,
            "grid_row": null,
            "max_height": null,
            "align_content": null,
            "visibility": null,
            "align_self": null,
            "height": null,
            "min_height": null,
            "padding": null,
            "grid_auto_rows": null,
            "grid_gap": null,
            "max_width": null,
            "order": null,
            "_view_module_version": "1.2.0",
            "grid_template_areas": null,
            "object_position": null,
            "object_fit": null,
            "grid_auto_columns": null,
            "margin": null,
            "display": null,
            "left": null
          }
        },
        "ea375f637f8d4dd59e1f11d675627cf4": {
          "model_module": "@jupyter-widgets/controls",
          "model_name": "DescriptionStyleModel",
          "state": {
            "_view_name": "StyleView",
            "_model_name": "DescriptionStyleModel",
            "description_width": "",
            "_view_module": "@jupyter-widgets/base",
            "_model_module_version": "1.5.0",
            "_view_count": null,
            "_view_module_version": "1.2.0",
            "_model_module": "@jupyter-widgets/controls"
          }
        },
        "5316d2ea586f4a6cbfceed5259bfb238": {
          "model_module": "@jupyter-widgets/base",
          "model_name": "LayoutModel",
          "state": {
            "_view_name": "LayoutView",
            "grid_template_rows": null,
            "right": null,
            "justify_content": null,
            "_view_module": "@jupyter-widgets/base",
            "overflow": null,
            "_model_module_version": "1.2.0",
            "_view_count": null,
            "flex_flow": null,
            "width": null,
            "min_width": null,
            "border": null,
            "align_items": null,
            "bottom": null,
            "_model_module": "@jupyter-widgets/base",
            "top": null,
            "grid_column": null,
            "overflow_y": null,
            "overflow_x": null,
            "grid_auto_flow": null,
            "grid_area": null,
            "grid_template_columns": null,
            "flex": null,
            "_model_name": "LayoutModel",
            "justify_items": null,
            "grid_row": null,
            "max_height": null,
            "align_content": null,
            "visibility": null,
            "align_self": null,
            "height": null,
            "min_height": null,
            "padding": null,
            "grid_auto_rows": null,
            "grid_gap": null,
            "max_width": null,
            "order": null,
            "_view_module_version": "1.2.0",
            "grid_template_areas": null,
            "object_position": null,
            "object_fit": null,
            "grid_auto_columns": null,
            "margin": null,
            "display": null,
            "left": null
          }
        }
      }
    }
  },
  "cells": [
    {
      "cell_type": "code",
      "metadata": {
        "id": "i_Z4c1stH0Jy",
        "colab_type": "code",
        "colab": {
          "base_uri": "https://localhost:8080/",
          "height": 124
        },
        "outputId": "14813c8e-ad49-4ec7-92f8-b45e6eeeacbe"
      },
      "source": [
        "from google.colab import drive\n",
        "drive.mount('/content/gdrive', force_remount=True)"
      ],
      "execution_count": 1,
      "outputs": [
        {
          "output_type": "stream",
          "text": [
            "Go to this URL in a browser: https://accounts.google.com/o/oauth2/auth?client_id=947318989803-6bn6qk8qdgf4n4g3pfee6491hc0brc4i.apps.googleusercontent.com&redirect_uri=urn%3aietf%3awg%3aoauth%3a2.0%3aoob&response_type=code&scope=email%20https%3a%2f%2fwww.googleapis.com%2fauth%2fdocs.test%20https%3a%2f%2fwww.googleapis.com%2fauth%2fdrive%20https%3a%2f%2fwww.googleapis.com%2fauth%2fdrive.photos.readonly%20https%3a%2f%2fwww.googleapis.com%2fauth%2fpeopleapi.readonly\n",
            "\n",
            "Enter your authorization code:\n",
            "··········\n",
            "Mounted at /content/gdrive\n"
          ],
          "name": "stdout"
        }
      ]
    },
    {
      "cell_type": "code",
      "metadata": {
        "id": "Ga-BTwK-ICcj",
        "colab_type": "code",
        "colab": {
          "base_uri": "https://localhost:8080/",
          "height": 1000
        },
        "outputId": "5a0166ad-ec10-45e0-b196-768621dc01f4"
      },
      "source": [
        "import json\n",
        "import pandas as pd\n",
        "import numpy as np\n",
        "!pip install transformers\n",
        "import torch\n",
        "import torch.nn.functional as F\n",
        "device=torch.device('cuda')\n",
        "from transformers import BertTokenizer,BertForSequenceClassification,AdamW,BertConfig,get_linear_schedule_with_warmup\n",
        "from lxml import etree as ET\n",
        "!pip3 install scispacy\n",
        "!pip3 install https://s3-us-west-2.amazonaws.com/ai2-s2-scispacy/releases/v0.2.4/en_core_sci_lg-0.2.4.tar.gz\n",
        "import spacy\n",
        "import scispacy\n",
        "import en_core_sci_lg\n",
        "nlp = en_core_sci_lg.load()\n",
        "from bs4 import BeautifulSoup\n",
        "\n",
        "\"\"\"\n",
        "#Create input.csv file from training8b.json file\n",
        "jsonFile = open('/content/gdrive/My Drive/Colab Notebooks/BioASQ/training8b.json', 'r')\n",
        "values = json.load(jsonFile)\n",
        "jsonFile.close()\n",
        "\n",
        "id_list = []\n",
        "question_list = []\n",
        "for i in range(len(values['questions'])):\n",
        "    id_list.append(values['questions'][i]['id'])\n",
        "    question_list.append(values['questions'][i]['body'])\n",
        "\n",
        "input_df =  pd.DataFrame(list(zip(id_list,question_list)),columns=['ID','Question'])\n",
        "input_df.to_csv('/content/gdrive/My Drive/Colab Notebooks/BioASQ/input.csv',index=False)  \n",
        "\"\"\"\n"
      ],
      "execution_count": 2,
      "outputs": [
        {
          "output_type": "stream",
          "text": [
            "Collecting transformers\n",
            "\u001b[?25l  Downloading https://files.pythonhosted.org/packages/27/3c/91ed8f5c4e7ef3227b4119200fc0ed4b4fd965b1f0172021c25701087825/transformers-3.0.2-py3-none-any.whl (769kB)\n",
            "\r\u001b[K     |▍                               | 10kB 16.9MB/s eta 0:00:01\r\u001b[K     |▉                               | 20kB 4.7MB/s eta 0:00:01\r\u001b[K     |█▎                              | 30kB 6.0MB/s eta 0:00:01\r\u001b[K     |█▊                              | 40kB 6.1MB/s eta 0:00:01\r\u001b[K     |██▏                             | 51kB 5.1MB/s eta 0:00:01\r\u001b[K     |██▋                             | 61kB 5.7MB/s eta 0:00:01\r\u001b[K     |███                             | 71kB 6.1MB/s eta 0:00:01\r\u001b[K     |███▍                            | 81kB 6.6MB/s eta 0:00:01\r\u001b[K     |███▉                            | 92kB 6.6MB/s eta 0:00:01\r\u001b[K     |████▎                           | 102kB 6.4MB/s eta 0:00:01\r\u001b[K     |████▊                           | 112kB 6.4MB/s eta 0:00:01\r\u001b[K     |█████▏                          | 122kB 6.4MB/s eta 0:00:01\r\u001b[K     |█████▌                          | 133kB 6.4MB/s eta 0:00:01\r\u001b[K     |██████                          | 143kB 6.4MB/s eta 0:00:01\r\u001b[K     |██████▍                         | 153kB 6.4MB/s eta 0:00:01\r\u001b[K     |██████▉                         | 163kB 6.4MB/s eta 0:00:01\r\u001b[K     |███████▎                        | 174kB 6.4MB/s eta 0:00:01\r\u001b[K     |███████▊                        | 184kB 6.4MB/s eta 0:00:01\r\u001b[K     |████████                        | 194kB 6.4MB/s eta 0:00:01\r\u001b[K     |████████▌                       | 204kB 6.4MB/s eta 0:00:01\r\u001b[K     |█████████                       | 215kB 6.4MB/s eta 0:00:01\r\u001b[K     |█████████▍                      | 225kB 6.4MB/s eta 0:00:01\r\u001b[K     |█████████▉                      | 235kB 6.4MB/s eta 0:00:01\r\u001b[K     |██████████▎                     | 245kB 6.4MB/s eta 0:00:01\r\u001b[K     |██████████▋                     | 256kB 6.4MB/s eta 0:00:01\r\u001b[K     |███████████                     | 266kB 6.4MB/s eta 0:00:01\r\u001b[K     |███████████▌                    | 276kB 6.4MB/s eta 0:00:01\r\u001b[K     |████████████                    | 286kB 6.4MB/s eta 0:00:01\r\u001b[K     |████████████▍                   | 296kB 6.4MB/s eta 0:00:01\r\u001b[K     |████████████▉                   | 307kB 6.4MB/s eta 0:00:01\r\u001b[K     |█████████████▏                  | 317kB 6.4MB/s eta 0:00:01\r\u001b[K     |█████████████▋                  | 327kB 6.4MB/s eta 0:00:01\r\u001b[K     |██████████████                  | 337kB 6.4MB/s eta 0:00:01\r\u001b[K     |██████████████▌                 | 348kB 6.4MB/s eta 0:00:01\r\u001b[K     |███████████████                 | 358kB 6.4MB/s eta 0:00:01\r\u001b[K     |███████████████▍                | 368kB 6.4MB/s eta 0:00:01\r\u001b[K     |███████████████▊                | 378kB 6.4MB/s eta 0:00:01\r\u001b[K     |████████████████▏               | 389kB 6.4MB/s eta 0:00:01\r\u001b[K     |████████████████▋               | 399kB 6.4MB/s eta 0:00:01\r\u001b[K     |█████████████████               | 409kB 6.4MB/s eta 0:00:01\r\u001b[K     |█████████████████▌              | 419kB 6.4MB/s eta 0:00:01\r\u001b[K     |██████████████████              | 430kB 6.4MB/s eta 0:00:01\r\u001b[K     |██████████████████▎             | 440kB 6.4MB/s eta 0:00:01\r\u001b[K     |██████████████████▊             | 450kB 6.4MB/s eta 0:00:01\r\u001b[K     |███████████████████▏            | 460kB 6.4MB/s eta 0:00:01\r\u001b[K     |███████████████████▋            | 471kB 6.4MB/s eta 0:00:01\r\u001b[K     |████████████████████            | 481kB 6.4MB/s eta 0:00:01\r\u001b[K     |████████████████████▌           | 491kB 6.4MB/s eta 0:00:01\r\u001b[K     |████████████████████▉           | 501kB 6.4MB/s eta 0:00:01\r\u001b[K     |█████████████████████▎          | 512kB 6.4MB/s eta 0:00:01\r\u001b[K     |█████████████████████▊          | 522kB 6.4MB/s eta 0:00:01\r\u001b[K     |██████████████████████▏         | 532kB 6.4MB/s eta 0:00:01\r\u001b[K     |██████████████████████▋         | 542kB 6.4MB/s eta 0:00:01\r\u001b[K     |███████████████████████         | 552kB 6.4MB/s eta 0:00:01\r\u001b[K     |███████████████████████▍        | 563kB 6.4MB/s eta 0:00:01\r\u001b[K     |███████████████████████▉        | 573kB 6.4MB/s eta 0:00:01\r\u001b[K     |████████████████████████▎       | 583kB 6.4MB/s eta 0:00:01\r\u001b[K     |████████████████████████▊       | 593kB 6.4MB/s eta 0:00:01\r\u001b[K     |█████████████████████████▏      | 604kB 6.4MB/s eta 0:00:01\r\u001b[K     |█████████████████████████▋      | 614kB 6.4MB/s eta 0:00:01\r\u001b[K     |██████████████████████████      | 624kB 6.4MB/s eta 0:00:01\r\u001b[K     |██████████████████████████▍     | 634kB 6.4MB/s eta 0:00:01\r\u001b[K     |██████████████████████████▉     | 645kB 6.4MB/s eta 0:00:01\r\u001b[K     |███████████████████████████▎    | 655kB 6.4MB/s eta 0:00:01\r\u001b[K     |███████████████████████████▊    | 665kB 6.4MB/s eta 0:00:01\r\u001b[K     |████████████████████████████▏   | 675kB 6.4MB/s eta 0:00:01\r\u001b[K     |████████████████████████████▌   | 686kB 6.4MB/s eta 0:00:01\r\u001b[K     |█████████████████████████████   | 696kB 6.4MB/s eta 0:00:01\r\u001b[K     |█████████████████████████████▍  | 706kB 6.4MB/s eta 0:00:01\r\u001b[K     |█████████████████████████████▉  | 716kB 6.4MB/s eta 0:00:01\r\u001b[K     |██████████████████████████████▎ | 727kB 6.4MB/s eta 0:00:01\r\u001b[K     |██████████████████████████████▊ | 737kB 6.4MB/s eta 0:00:01\r\u001b[K     |███████████████████████████████ | 747kB 6.4MB/s eta 0:00:01\r\u001b[K     |███████████████████████████████▌| 757kB 6.4MB/s eta 0:00:01\r\u001b[K     |████████████████████████████████| 768kB 6.4MB/s eta 0:00:01\r\u001b[K     |████████████████████████████████| 778kB 6.4MB/s \n",
            "\u001b[?25hRequirement already satisfied: requests in /usr/local/lib/python3.6/dist-packages (from transformers) (2.23.0)\n",
            "Requirement already satisfied: tqdm>=4.27 in /usr/local/lib/python3.6/dist-packages (from transformers) (4.41.1)\n",
            "Requirement already satisfied: filelock in /usr/local/lib/python3.6/dist-packages (from transformers) (3.0.12)\n",
            "Collecting tokenizers==0.8.1.rc1\n",
            "\u001b[?25l  Downloading https://files.pythonhosted.org/packages/40/d0/30d5f8d221a0ed981a186c8eb986ce1c94e3a6e87f994eae9f4aa5250217/tokenizers-0.8.1rc1-cp36-cp36m-manylinux1_x86_64.whl (3.0MB)\n",
            "\u001b[K     |████████████████████████████████| 3.0MB 18.1MB/s \n",
            "\u001b[?25hRequirement already satisfied: packaging in /usr/local/lib/python3.6/dist-packages (from transformers) (20.4)\n",
            "Collecting sentencepiece!=0.1.92\n",
            "\u001b[?25l  Downloading https://files.pythonhosted.org/packages/d4/a4/d0a884c4300004a78cca907a6ff9a5e9fe4f090f5d95ab341c53d28cbc58/sentencepiece-0.1.91-cp36-cp36m-manylinux1_x86_64.whl (1.1MB)\n",
            "\u001b[K     |████████████████████████████████| 1.1MB 41.3MB/s \n",
            "\u001b[?25hRequirement already satisfied: numpy in /usr/local/lib/python3.6/dist-packages (from transformers) (1.18.5)\n",
            "Requirement already satisfied: dataclasses; python_version < \"3.7\" in /usr/local/lib/python3.6/dist-packages (from transformers) (0.7)\n",
            "Requirement already satisfied: regex!=2019.12.17 in /usr/local/lib/python3.6/dist-packages (from transformers) (2019.12.20)\n",
            "Collecting sacremoses\n",
            "\u001b[?25l  Downloading https://files.pythonhosted.org/packages/7d/34/09d19aff26edcc8eb2a01bed8e98f13a1537005d31e95233fd48216eed10/sacremoses-0.0.43.tar.gz (883kB)\n",
            "\u001b[K     |████████████████████████████████| 890kB 36.8MB/s \n",
            "\u001b[?25hRequirement already satisfied: idna<3,>=2.5 in /usr/local/lib/python3.6/dist-packages (from requests->transformers) (2.10)\n",
            "Requirement already satisfied: certifi>=2017.4.17 in /usr/local/lib/python3.6/dist-packages (from requests->transformers) (2020.6.20)\n",
            "Requirement already satisfied: chardet<4,>=3.0.2 in /usr/local/lib/python3.6/dist-packages (from requests->transformers) (3.0.4)\n",
            "Requirement already satisfied: urllib3!=1.25.0,!=1.25.1,<1.26,>=1.21.1 in /usr/local/lib/python3.6/dist-packages (from requests->transformers) (1.24.3)\n",
            "Requirement already satisfied: six in /usr/local/lib/python3.6/dist-packages (from packaging->transformers) (1.15.0)\n",
            "Requirement already satisfied: pyparsing>=2.0.2 in /usr/local/lib/python3.6/dist-packages (from packaging->transformers) (2.4.7)\n",
            "Requirement already satisfied: click in /usr/local/lib/python3.6/dist-packages (from sacremoses->transformers) (7.1.2)\n",
            "Requirement already satisfied: joblib in /usr/local/lib/python3.6/dist-packages (from sacremoses->transformers) (0.16.0)\n",
            "Building wheels for collected packages: sacremoses\n",
            "  Building wheel for sacremoses (setup.py) ... \u001b[?25l\u001b[?25hdone\n",
            "  Created wheel for sacremoses: filename=sacremoses-0.0.43-cp36-none-any.whl size=893260 sha256=4292aea4a62942486e3059d31c64ab18545b1f89e682184c7bf3b3d6c565a5ca\n",
            "  Stored in directory: /root/.cache/pip/wheels/29/3c/fd/7ce5c3f0666dab31a50123635e6fb5e19ceb42ce38d4e58f45\n",
            "Successfully built sacremoses\n",
            "Installing collected packages: tokenizers, sentencepiece, sacremoses, transformers\n",
            "Successfully installed sacremoses-0.0.43 sentencepiece-0.1.91 tokenizers-0.8.1rc1 transformers-3.0.2\n",
            "Collecting scispacy\n",
            "  Downloading https://files.pythonhosted.org/packages/93/0d/db88d1c2ad059c0b6854ca00519038b36ee1106e97899a3eb66bd25aeaaa/scispacy-0.2.5-py3-none-any.whl\n",
            "Collecting spacy<3.0.0,>=2.3.0\n",
            "\u001b[?25l  Downloading https://files.pythonhosted.org/packages/10/b5/c7a92c7ce5d4b353b70b4b5b4385687206c8b230ddfe08746ab0fd310a3a/spacy-2.3.2-cp36-cp36m-manylinux1_x86_64.whl (9.9MB)\n",
            "\u001b[K     |████████████████████████████████| 10.0MB 6.5MB/s \n",
            "\u001b[?25hRequirement already satisfied: numpy in /usr/local/lib/python3.6/dist-packages (from scispacy) (1.18.5)\n",
            "Requirement already satisfied: scikit-learn>=0.20.3 in /usr/local/lib/python3.6/dist-packages (from scispacy) (0.22.2.post1)\n",
            "Collecting nmslib>=1.7.3.6\n",
            "\u001b[?25l  Downloading https://files.pythonhosted.org/packages/d5/fd/7d7428d29f12be5d1cc6d586d425b795cc9c596ae669593fd4f388602010/nmslib-2.0.6-cp36-cp36m-manylinux2010_x86_64.whl (12.9MB)\n",
            "\u001b[K     |████████████████████████████████| 13.0MB 239kB/s \n",
            "\u001b[?25hRequirement already satisfied: joblib in /usr/local/lib/python3.6/dist-packages (from scispacy) (0.16.0)\n",
            "Collecting pysbd\n",
            "\u001b[?25l  Downloading https://files.pythonhosted.org/packages/85/ed/3a266e51144305f5b30dc0560eab74cc675b11907241db4ed56ec2647a9d/pysbd-0.3.0-py3-none-any.whl (67kB)\n",
            "\u001b[K     |████████████████████████████████| 71kB 6.5MB/s \n",
            "\u001b[?25hRequirement already satisfied: requests<3.0.0conllu,>=2.0.0 in /usr/local/lib/python3.6/dist-packages (from scispacy) (2.23.0)\n",
            "Requirement already satisfied: blis<0.5.0,>=0.4.0 in /usr/local/lib/python3.6/dist-packages (from spacy<3.0.0,>=2.3.0->scispacy) (0.4.1)\n",
            "Collecting thinc==7.4.1\n",
            "\u001b[?25l  Downloading https://files.pythonhosted.org/packages/10/ae/ef3ae5e93639c0ef8e3eb32e3c18341e511b3c515fcfc603f4b808087651/thinc-7.4.1-cp36-cp36m-manylinux1_x86_64.whl (2.1MB)\n",
            "\u001b[K     |████████████████████████████████| 2.1MB 37.5MB/s \n",
            "\u001b[?25hRequirement already satisfied: preshed<3.1.0,>=3.0.2 in /usr/local/lib/python3.6/dist-packages (from spacy<3.0.0,>=2.3.0->scispacy) (3.0.2)\n",
            "Requirement already satisfied: setuptools in /usr/local/lib/python3.6/dist-packages (from spacy<3.0.0,>=2.3.0->scispacy) (49.2.0)\n",
            "Requirement already satisfied: plac<1.2.0,>=0.9.6 in /usr/local/lib/python3.6/dist-packages (from spacy<3.0.0,>=2.3.0->scispacy) (1.1.3)\n",
            "Requirement already satisfied: murmurhash<1.1.0,>=0.28.0 in /usr/local/lib/python3.6/dist-packages (from spacy<3.0.0,>=2.3.0->scispacy) (1.0.2)\n",
            "Requirement already satisfied: catalogue<1.1.0,>=0.0.7 in /usr/local/lib/python3.6/dist-packages (from spacy<3.0.0,>=2.3.0->scispacy) (1.0.0)\n",
            "Requirement already satisfied: cymem<2.1.0,>=2.0.2 in /usr/local/lib/python3.6/dist-packages (from spacy<3.0.0,>=2.3.0->scispacy) (2.0.3)\n",
            "Requirement already satisfied: tqdm<5.0.0,>=4.38.0 in /usr/local/lib/python3.6/dist-packages (from spacy<3.0.0,>=2.3.0->scispacy) (4.41.1)\n",
            "Requirement already satisfied: wasabi<1.1.0,>=0.4.0 in /usr/local/lib/python3.6/dist-packages (from spacy<3.0.0,>=2.3.0->scispacy) (0.7.1)\n",
            "Requirement already satisfied: srsly<1.1.0,>=1.0.2 in /usr/local/lib/python3.6/dist-packages (from spacy<3.0.0,>=2.3.0->scispacy) (1.0.2)\n",
            "Requirement already satisfied: scipy>=0.17.0 in /usr/local/lib/python3.6/dist-packages (from scikit-learn>=0.20.3->scispacy) (1.4.1)\n",
            "Collecting pybind11>=2.2.3\n",
            "\u001b[?25l  Downloading https://files.pythonhosted.org/packages/89/e3/d576f6f02bc75bacbc3d42494e8f1d063c95617d86648dba243c2cb3963e/pybind11-2.5.0-py2.py3-none-any.whl (296kB)\n",
            "\u001b[K     |████████████████████████████████| 296kB 36.4MB/s \n",
            "\u001b[?25hRequirement already satisfied: psutil in /usr/local/lib/python3.6/dist-packages (from nmslib>=1.7.3.6->scispacy) (5.4.8)\n",
            "Requirement already satisfied: idna<3,>=2.5 in /usr/local/lib/python3.6/dist-packages (from requests<3.0.0conllu,>=2.0.0->scispacy) (2.10)\n",
            "Requirement already satisfied: chardet<4,>=3.0.2 in /usr/local/lib/python3.6/dist-packages (from requests<3.0.0conllu,>=2.0.0->scispacy) (3.0.4)\n",
            "Requirement already satisfied: urllib3!=1.25.0,!=1.25.1,<1.26,>=1.21.1 in /usr/local/lib/python3.6/dist-packages (from requests<3.0.0conllu,>=2.0.0->scispacy) (1.24.3)\n",
            "Requirement already satisfied: certifi>=2017.4.17 in /usr/local/lib/python3.6/dist-packages (from requests<3.0.0conllu,>=2.0.0->scispacy) (2020.6.20)\n",
            "Requirement already satisfied: importlib-metadata>=0.20; python_version < \"3.8\" in /usr/local/lib/python3.6/dist-packages (from catalogue<1.1.0,>=0.0.7->spacy<3.0.0,>=2.3.0->scispacy) (1.7.0)\n",
            "Requirement already satisfied: zipp>=0.5 in /usr/local/lib/python3.6/dist-packages (from importlib-metadata>=0.20; python_version < \"3.8\"->catalogue<1.1.0,>=0.0.7->spacy<3.0.0,>=2.3.0->scispacy) (3.1.0)\n",
            "Installing collected packages: thinc, spacy, pybind11, nmslib, pysbd, scispacy\n",
            "  Found existing installation: thinc 7.4.0\n",
            "    Uninstalling thinc-7.4.0:\n",
            "      Successfully uninstalled thinc-7.4.0\n",
            "  Found existing installation: spacy 2.2.4\n",
            "    Uninstalling spacy-2.2.4:\n",
            "      Successfully uninstalled spacy-2.2.4\n",
            "Successfully installed nmslib-2.0.6 pybind11-2.5.0 pysbd-0.3.0 scispacy-0.2.5 spacy-2.3.2 thinc-7.4.1\n",
            "Collecting https://s3-us-west-2.amazonaws.com/ai2-s2-scispacy/releases/v0.2.4/en_core_sci_lg-0.2.4.tar.gz\n",
            "\u001b[?25l  Downloading https://s3-us-west-2.amazonaws.com/ai2-s2-scispacy/releases/v0.2.4/en_core_sci_lg-0.2.4.tar.gz (500.6MB)\n",
            "\u001b[K     |████████████████████████████████| 500.6MB 32kB/s \n",
            "\u001b[?25hRequirement already satisfied: spacy>=2.2.1 in /usr/local/lib/python3.6/dist-packages (from en-core-sci-lg==0.2.4) (2.3.2)\n",
            "Requirement already satisfied: cymem<2.1.0,>=2.0.2 in /usr/local/lib/python3.6/dist-packages (from spacy>=2.2.1->en-core-sci-lg==0.2.4) (2.0.3)\n",
            "Requirement already satisfied: preshed<3.1.0,>=3.0.2 in /usr/local/lib/python3.6/dist-packages (from spacy>=2.2.1->en-core-sci-lg==0.2.4) (3.0.2)\n",
            "Requirement already satisfied: blis<0.5.0,>=0.4.0 in /usr/local/lib/python3.6/dist-packages (from spacy>=2.2.1->en-core-sci-lg==0.2.4) (0.4.1)\n",
            "Requirement already satisfied: plac<1.2.0,>=0.9.6 in /usr/local/lib/python3.6/dist-packages (from spacy>=2.2.1->en-core-sci-lg==0.2.4) (1.1.3)\n",
            "Requirement already satisfied: numpy>=1.15.0 in /usr/local/lib/python3.6/dist-packages (from spacy>=2.2.1->en-core-sci-lg==0.2.4) (1.18.5)\n",
            "Requirement already satisfied: srsly<1.1.0,>=1.0.2 in /usr/local/lib/python3.6/dist-packages (from spacy>=2.2.1->en-core-sci-lg==0.2.4) (1.0.2)\n",
            "Requirement already satisfied: setuptools in /usr/local/lib/python3.6/dist-packages (from spacy>=2.2.1->en-core-sci-lg==0.2.4) (49.2.0)\n",
            "Requirement already satisfied: requests<3.0.0,>=2.13.0 in /usr/local/lib/python3.6/dist-packages (from spacy>=2.2.1->en-core-sci-lg==0.2.4) (2.23.0)\n",
            "Requirement already satisfied: wasabi<1.1.0,>=0.4.0 in /usr/local/lib/python3.6/dist-packages (from spacy>=2.2.1->en-core-sci-lg==0.2.4) (0.7.1)\n",
            "Requirement already satisfied: thinc==7.4.1 in /usr/local/lib/python3.6/dist-packages (from spacy>=2.2.1->en-core-sci-lg==0.2.4) (7.4.1)\n",
            "Requirement already satisfied: tqdm<5.0.0,>=4.38.0 in /usr/local/lib/python3.6/dist-packages (from spacy>=2.2.1->en-core-sci-lg==0.2.4) (4.41.1)\n",
            "Requirement already satisfied: catalogue<1.1.0,>=0.0.7 in /usr/local/lib/python3.6/dist-packages (from spacy>=2.2.1->en-core-sci-lg==0.2.4) (1.0.0)\n",
            "Requirement already satisfied: murmurhash<1.1.0,>=0.28.0 in /usr/local/lib/python3.6/dist-packages (from spacy>=2.2.1->en-core-sci-lg==0.2.4) (1.0.2)\n",
            "Requirement already satisfied: urllib3!=1.25.0,!=1.25.1,<1.26,>=1.21.1 in /usr/local/lib/python3.6/dist-packages (from requests<3.0.0,>=2.13.0->spacy>=2.2.1->en-core-sci-lg==0.2.4) (1.24.3)\n",
            "Requirement already satisfied: idna<3,>=2.5 in /usr/local/lib/python3.6/dist-packages (from requests<3.0.0,>=2.13.0->spacy>=2.2.1->en-core-sci-lg==0.2.4) (2.10)\n",
            "Requirement already satisfied: certifi>=2017.4.17 in /usr/local/lib/python3.6/dist-packages (from requests<3.0.0,>=2.13.0->spacy>=2.2.1->en-core-sci-lg==0.2.4) (2020.6.20)\n",
            "Requirement already satisfied: chardet<4,>=3.0.2 in /usr/local/lib/python3.6/dist-packages (from requests<3.0.0,>=2.13.0->spacy>=2.2.1->en-core-sci-lg==0.2.4) (3.0.4)\n",
            "Requirement already satisfied: importlib-metadata>=0.20; python_version < \"3.8\" in /usr/local/lib/python3.6/dist-packages (from catalogue<1.1.0,>=0.0.7->spacy>=2.2.1->en-core-sci-lg==0.2.4) (1.7.0)\n",
            "Requirement already satisfied: zipp>=0.5 in /usr/local/lib/python3.6/dist-packages (from importlib-metadata>=0.20; python_version < \"3.8\"->catalogue<1.1.0,>=0.0.7->spacy>=2.2.1->en-core-sci-lg==0.2.4) (3.1.0)\n",
            "Building wheels for collected packages: en-core-sci-lg\n",
            "  Building wheel for en-core-sci-lg (setup.py) ... \u001b[?25l\u001b[?25hdone\n",
            "  Created wheel for en-core-sci-lg: filename=en_core_sci_lg-0.2.4-cp36-none-any.whl size=501343162 sha256=5e0faac099d742da09019add2268f50844b066294e3029cfc28e6fa36ac8222e\n",
            "  Stored in directory: /root/.cache/pip/wheels/ea/ab/e5/fa667519032799529ce6a50944a82d6ae3603819cd07836aa2\n",
            "Successfully built en-core-sci-lg\n",
            "Installing collected packages: en-core-sci-lg\n",
            "Successfully installed en-core-sci-lg-0.2.4\n"
          ],
          "name": "stdout"
        },
        {
          "output_type": "stream",
          "text": [
            "/usr/local/lib/python3.6/dist-packages/spacy/util.py:275: UserWarning: [W031] Model 'en_core_sci_lg' (0.2.4) requires spaCy v2.2 and is incompatible with the current spaCy version (2.3.2). This may lead to unexpected results or runtime errors. To resolve this, download a newer compatible model or retrain your custom model with the current spaCy version. For more details and available updates, run: python -m spacy validate\n",
            "  warnings.warn(warn_msg)\n"
          ],
          "name": "stderr"
        },
        {
          "output_type": "execute_result",
          "data": {
            "application/vnd.google.colaboratory.intrinsic+json": {
              "type": "string"
            },
            "text/plain": [
              "\"\\njsonFile = open('/content/gdrive/My Drive/Colab Notebooks/BioASQ/training8b.json', 'r')\\nvalues = json.load(jsonFile)\\njsonFile.close()\\n\\nid_list = []\\nquestion_list = []\\nfor i in range(len(values['questions'])):\\n    id_list.append(values['questions'][i]['id'])\\n    question_list.append(values['questions'][i]['body'])\\n\\ninput_df =  pd.DataFrame(list(zip(id_list,question_list)),columns=['ID','Question'])\\ninput_df.to_csv('/content/gdrive/My Drive/Colab Notebooks/BioASQ/input.csv',index=False)  \\n\""
            ]
          },
          "metadata": {
            "tags": []
          },
          "execution_count": 2
        }
      ]
    },
    {
      "cell_type": "markdown",
      "metadata": {
        "id": "ued1Px0fZhF1",
        "colab_type": "text"
      },
      "source": [
        "Read input file (.csv) and predict type for each question"
      ]
    },
    {
      "cell_type": "code",
      "metadata": {
        "id": "a5FspDEzLT1i",
        "colab_type": "code",
        "colab": {
          "base_uri": "https://localhost:8080/",
          "height": 156,
          "referenced_widgets": [
            "89e6c2d51e5a4c0985b857fc932dab30",
            "c265d1a11b7749e68937be65c30fe1a2",
            "beadec186b47496f9981c2eb78c6370a",
            "16513a7af14c434296abf11b12a9aef6",
            "8ff0cf821b16424da1bf427669d6aa28",
            "d144c41f50274411ba222b5eb5791c73",
            "ea375f637f8d4dd59e1f11d675627cf4",
            "5316d2ea586f4a6cbfceed5259bfb238"
          ]
        },
        "outputId": "cf45f4aa-b01f-4c64-9442-63e437e0745f"
      },
      "source": [
        "def preprocess(df):\n",
        "  df.encoded_tokens = [tokenizer.encode_plus(text,add_special_tokens=True)['input_ids'] for text in df['Question']] #encoded tokens for each tweet\n",
        "  df.attention_mask = [tokenizer.encode_plus(text,add_special_tokens=True)['attention_mask'] for text in df['Question']]\n",
        "  encoded_tokens = list(df.encoded_tokens)\n",
        "  attention_mask = list(df.attention_mask)\n",
        "  return encoded_tokens,attention_mask\n",
        "\n",
        "# Convert indices to Torch tensor and dump into cuda\n",
        "def feed_generator(encoded_tokens,attention_mask):\n",
        "\n",
        "    batch_size = 16\n",
        "    batch_seq = [x for x in range(int(len(encoded_tokens)/batch_size))]\n",
        "\n",
        "\n",
        "    shuffled_encoded_tokens,shuffled_attention_mask = encoded_tokens,attention_mask\n",
        "\n",
        "    res = len(encoded_tokens)%batch_size\n",
        "    if res != 0:\n",
        "        batch_seq = [x for x in range(int(len(encoded_tokens)/batch_size)+1)]\n",
        "    shuffled_encoded_tokens = shuffled_encoded_tokens+shuffled_encoded_tokens[:res]\n",
        "    shuffled_attention_mask = shuffled_attention_mask+shuffled_attention_mask[:res]\n",
        "\n",
        "    for batch in batch_seq:\n",
        "        maxlen_sent = max([len(i) for i in shuffled_encoded_tokens[batch*batch_size:(batch+1)*batch_size]])\n",
        "        token_tensor = torch.tensor([tokens+[0]*(maxlen_sent-len(tokens)) for tokens in shuffled_encoded_tokens[batch*batch_size:(batch+1)*batch_size]])\n",
        "        attention_mask = torch.tensor([tokens+[0]*(maxlen_sent-len(tokens)) for tokens in shuffled_attention_mask[batch*batch_size:(batch+1)*batch_size]]) \n",
        "\n",
        "        token_tensor = token_tensor.to('cuda')\n",
        "        attention_mask = attention_mask.to('cuda')\n",
        "\n",
        "        yield token_tensor,attention_mask\n",
        "\n",
        "def predict(model,data):\n",
        "    model.eval()\n",
        "    model.cuda()\n",
        "    preds = []\n",
        "    batch_count = 0\n",
        "    for token_tensor, attention_mask in data:\n",
        "        with torch.no_grad():\n",
        "            logits = model(token_tensor,token_type_ids=None,attention_mask=attention_mask)[0]\n",
        "        tmp_preds = torch.argmax(logits,-1).detach().cpu().numpy().tolist()\n",
        "        preds += tmp_preds             \n",
        "    return preds\n",
        "\n",
        "test_data_path = '/content/gdrive/My Drive/Colab Notebooks/BioASQ/input.csv'\n",
        "testing_df = pd.read_csv(test_data_path,sep=',',header=0)\n",
        "\n",
        "tokenizer = BertTokenizer.from_pretrained('bert-base-uncased')\n",
        "checkpoint_dir = \"gdrive/My Drive/Colab Notebooks/bert-large-v3/\"\n",
        "\n",
        "\n",
        "model = BertForSequenceClassification.from_pretrained('/content/gdrive/My Drive/Colab Notebooks/BioASQ/Model/model 1/', cache_dir=None)\n",
        "\n",
        "encoded_tokens_Test,attention_mask_Test = preprocess(testing_df)\n",
        "data_test = feed_generator(encoded_tokens_Test, attention_mask_Test)\n",
        "preds_test = predict(model,data_test)\n",
        "\n",
        "\n",
        "indices_to_label = {0: 'factoid', 1: 'list', 2: 'summary', 3: 'yesno'}\n",
        "\n",
        "predict_label = []\n",
        "for i in preds_test[0:len(testing_df['Question'])]:\n",
        "  for j in indices_to_label:\n",
        "    if i == j:\n",
        "      predict_label.append(indices_to_label[j])\n",
        "\n",
        "testing_df['type'] = predict_label\n"
      ],
      "execution_count": 3,
      "outputs": [
        {
          "output_type": "display_data",
          "data": {
            "application/vnd.jupyter.widget-view+json": {
              "model_id": "89e6c2d51e5a4c0985b857fc932dab30",
              "version_minor": 0,
              "version_major": 2
            },
            "text/plain": [
              "HBox(children=(FloatProgress(value=0.0, description='Downloading', max=231508.0, style=ProgressStyle(descripti…"
            ]
          },
          "metadata": {
            "tags": []
          }
        },
        {
          "output_type": "stream",
          "text": [
            "\n"
          ],
          "name": "stdout"
        },
        {
          "output_type": "stream",
          "text": [
            "/usr/local/lib/python3.6/dist-packages/ipykernel_launcher.py:2: UserWarning: Pandas doesn't allow columns to be created via a new attribute name - see https://pandas.pydata.org/pandas-docs/stable/indexing.html#attribute-access\n",
            "  \n",
            "/usr/local/lib/python3.6/dist-packages/ipykernel_launcher.py:3: UserWarning: Pandas doesn't allow columns to be created via a new attribute name - see https://pandas.pydata.org/pandas-docs/stable/indexing.html#attribute-access\n",
            "  This is separate from the ipykernel package so we can avoid doing imports until\n"
          ],
          "name": "stderr"
        }
      ]
    },
    {
      "cell_type": "markdown",
      "metadata": {
        "id": "XNqZoyumZs3R",
        "colab_type": "text"
      },
      "source": [
        "Create output file (XML) providing question type to Answer Processing system and query for Information Retrieval system"
      ]
    },
    {
      "cell_type": "code",
      "metadata": {
        "id": "jR1mRNENGMWH",
        "colab_type": "code",
        "colab": {}
      },
      "source": [
        "def xml_tree(df):\n",
        "    root = ET.Element(\"Input\")\n",
        "    for ind in df.index:\n",
        "      id = df['ID'][ind]\n",
        "      question = df['Question'][ind]\n",
        "      qtype = df['type'][ind]\n",
        "      q = ET.SubElement(root,\"Q\")\n",
        "      q.set('id',str(id))\n",
        "      q.text = question\n",
        "      qp = ET.SubElement(q,\"QP\")\n",
        "      qp_type = ET.SubElement(qp,'Type')\n",
        "      qp_type.text = qtype\n",
        "      doc = nlp(question)\n",
        "      ent_list = []\n",
        "      for ent in doc.ents:\n",
        "        ent_list.append(str(ent))\n",
        "        qp_en = ET.SubElement(qp,'Entities') \n",
        "        qp_en.text = str(ent)\n",
        "      qp_query = ET.SubElement(qp,'Query')\n",
        "      qp_query.text = str(' '.join(ent_list))\n",
        "      \n",
        "    tree = ET.ElementTree(root)\n",
        "    tree.write('gdrive/My Drive/Colab Notebooks/BioASQ/qp_demo.xml', pretty_print=True)\n",
        "    \n",
        "\n",
        "xml_tree(testing_df)    \n",
        "    "
      ],
      "execution_count": 4,
      "outputs": []
    }
  ]
}